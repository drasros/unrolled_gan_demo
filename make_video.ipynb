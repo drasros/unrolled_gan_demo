{
 "cells": [
  {
   "cell_type": "code",
   "execution_count": 7,
   "metadata": {
    "collapsed": false
   },
   "outputs": [],
   "source": [
    "import numpy as np\n",
    "import matplotlib\n",
    "matplotlib.use(\"Agg\")\n",
    "import matplotlib.pyplot as plt\n",
    "import matplotlib.animation as manimation\n",
    "\n",
    "FFMpegWriter = manimation.writers['ffmpeg']\n",
    "metadata = dict(title='unrolled gans', artist='Matplotlib',\n",
    "                comment='training animation!')\n",
    "writer = FFMpegWriter(fps=15, metadata=metadata)\n",
    "\n",
    "import numpy as np\n",
    "# get frames saves during training (they are heatmap arrays)\n",
    "frames = np.load(\"frames.npy\")\n",
    "lf = frames.shape[0]\n",
    "# get the axis lims (and boxes) used in the original boxes\n",
    "extent_tr = list(np.load(\"extent_tr.npy\"))\n",
    "\n",
    "plt.clf()\n",
    "fig = plt.figure()\n",
    "l= plt.imshow(np.array([[]]), extent=extent_tr, origin='lower')\n",
    "\n",
    "l.set_data(frames[0])\n",
    "\n",
    "with writer.saving(fig, \"tr_unrolled_gan.mp4\", lf):\n",
    "    for i in range(lf/20):\n",
    "        l.set_data(frames[i*20])\n",
    "        writer.grab_frame()"
   ]
  },
  {
   "cell_type": "code",
   "execution_count": null,
   "metadata": {
    "collapsed": true
   },
   "outputs": [],
   "source": []
  },
  {
   "cell_type": "code",
   "execution_count": null,
   "metadata": {
    "collapsed": true
   },
   "outputs": [],
   "source": []
  }
 ],
 "metadata": {
  "anaconda-cloud": {},
  "kernelspec": {
   "display_name": "Python [conda root]",
   "language": "python",
   "name": "conda-root-py"
  },
  "language_info": {
   "codemirror_mode": {
    "name": "ipython",
    "version": 2
   },
   "file_extension": ".py",
   "mimetype": "text/x-python",
   "name": "python",
   "nbconvert_exporter": "python",
   "pygments_lexer": "ipython2",
   "version": "2.7.12"
  }
 },
 "nbformat": 4,
 "nbformat_minor": 1
}
